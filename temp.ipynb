{
 "cells": [
  {
   "metadata": {},
   "cell_type": "markdown",
   "source": "Imports",
   "id": "65686a0fb03e0d15"
  },
  {
   "cell_type": "code",
   "id": "initial_id",
   "metadata": {
    "collapsed": true,
    "ExecuteTime": {
     "end_time": "2024-08-05T04:21:19.649546Z",
     "start_time": "2024-08-05T04:21:17.536634Z"
    }
   },
   "source": [
    "import polyscope as ps\n",
    "import numpy as np \n",
    "import torch\n",
    "import pandas\n",
    "import os"
   ],
   "outputs": [],
   "execution_count": 1
  },
  {
   "metadata": {
    "ExecuteTime": {
     "end_time": "2024-08-05T04:21:21.186282Z",
     "start_time": "2024-08-05T04:21:19.651307Z"
    }
   },
   "cell_type": "code",
   "source": [
    "from src.dataset.SymDataset.SymDataset import SymDataset\n",
    "from src.dataset.SymDataset.SymDataModule import SymDataModule\n",
    "from src.model.prsnet.lightning_prsnet import LightingPRSNet\n",
    "from src.utils.voxel import transform_representation, undo_transform_representation"
   ],
   "id": "f411961857d9792d",
   "outputs": [],
   "execution_count": 2
  },
  {
   "metadata": {},
   "cell_type": "markdown",
   "source": "Test Dataset y DataModule\n",
   "id": "f5cb2a585de728bf"
  },
  {
   "metadata": {
    "ExecuteTime": {
     "end_time": "2024-08-05T04:21:21.194068Z",
     "start_time": "2024-08-05T04:21:21.190511Z"
    }
   },
   "cell_type": "code",
   "source": "DATAPATH = '/data/ShapeNet_Symmetry/'",
   "id": "e673ea0cd5f7a3ed",
   "outputs": [],
   "execution_count": 3
  },
  {
   "metadata": {
    "ExecuteTime": {
     "end_time": "2024-08-05T04:21:21.204730Z",
     "start_time": "2024-08-05T04:21:21.197938Z"
    }
   },
   "cell_type": "code",
   "source": [
    "dataset = SymDataset(\n",
    "   data_source_path=DATAPATH + \"train\",\n",
    "   debug=False\n",
    ")"
   ],
   "id": "77699dd73009273b",
   "outputs": [],
   "execution_count": 4
  },
  {
   "metadata": {
    "ExecuteTime": {
     "end_time": "2024-08-05T04:21:28.265342Z",
     "start_time": "2024-08-05T04:21:21.206552Z"
    }
   },
   "cell_type": "code",
   "source": [
    "i = 1\n",
    "item = dataset[i]"
   ],
   "id": "e6a000cf5c0f92a5",
   "outputs": [],
   "execution_count": 5
  },
  {
   "metadata": {
    "ExecuteTime": {
     "end_time": "2024-08-05T04:21:28.270576Z",
     "start_time": "2024-08-05T04:21:28.267133Z"
    }
   },
   "cell_type": "code",
   "source": "# item.visualize()",
   "id": "560a7747f5a4c45",
   "outputs": [],
   "execution_count": 6
  },
  {
   "metadata": {
    "ExecuteTime": {
     "end_time": "2024-08-05T04:21:28.322509Z",
     "start_time": "2024-08-05T04:21:28.276502Z"
    }
   },
   "cell_type": "code",
   "source": [
    "module = SymDataModule(DATAPATH, DATAPATH)\n",
    "module.setup(\"fit\")\n",
    "gen = iter(module.train_dataloader())"
   ],
   "id": "6bbb1c583ee6f803",
   "outputs": [],
   "execution_count": 7
  },
  {
   "metadata": {
    "ExecuteTime": {
     "end_time": "2024-08-05T04:21:42.436020Z",
     "start_time": "2024-08-05T04:21:28.325106Z"
    }
   },
   "cell_type": "code",
   "source": "batcher = next(gen)",
   "id": "51593693ce83a00e",
   "outputs": [],
   "execution_count": 8
  },
  {
   "metadata": {
    "ExecuteTime": {
     "end_time": "2024-08-05T04:21:42.452461Z",
     "start_time": "2024-08-05T04:21:42.437629Z"
    }
   },
   "cell_type": "code",
   "source": "batcher.get_voxel_points().shape",
   "id": "23a79ae9afb33bc",
   "outputs": [
    {
     "data": {
      "text/plain": [
       "torch.Size([2, 8192, 3])"
      ]
     },
     "execution_count": 9,
     "metadata": {},
     "output_type": "execute_result"
    }
   ],
   "execution_count": 9
  },
  {
   "metadata": {
    "ExecuteTime": {
     "end_time": "2024-08-05T04:21:42.470132Z",
     "start_time": "2024-08-05T04:21:42.459886Z"
    }
   },
   "cell_type": "code",
   "source": "batcher.get_voxel_obj()",
   "id": "5f3f1baeba4f441b",
   "outputs": [
    {
     "data": {
      "text/plain": [
       "[<src.utils.voxel.Voxel at 0x7f0bc27dca00>,\n",
       " <src.utils.voxel.Voxel at 0x7f0bc2800ac0>]"
      ]
     },
     "execution_count": 10,
     "metadata": {},
     "output_type": "execute_result"
    }
   ],
   "execution_count": 10
  },
  {
   "metadata": {},
   "cell_type": "markdown",
   "source": "Test Model",
   "id": "1f162bb93c682ca1"
  },
  {
   "metadata": {
    "ExecuteTime": {
     "end_time": "2024-08-05T04:21:42.487009Z",
     "start_time": "2024-08-05T04:21:42.473790Z"
    }
   },
   "cell_type": "code",
   "source": "lighting_model = LightingPRSNet(amount_of_heads=3) ",
   "id": "1ab30375fc1b95a0",
   "outputs": [],
   "execution_count": 11
  },
  {
   "metadata": {
    "ExecuteTime": {
     "end_time": "2024-08-05T04:21:42.517617Z",
     "start_time": "2024-08-05T04:21:42.488998Z"
    }
   },
   "cell_type": "code",
   "source": [
    "y_pred = lighting_model.net.forward(batcher.get_voxel_grid_stacked())\n",
    "y_pred.shape"
   ],
   "id": "e93f5b10162945cf",
   "outputs": [
    {
     "data": {
      "text/plain": [
       "torch.Size([2, 3, 4])"
      ]
     },
     "execution_count": 12,
     "metadata": {},
     "output_type": "execute_result"
    }
   ],
   "execution_count": 12
  },
  {
   "metadata": {
    "ExecuteTime": {
     "end_time": "2024-08-05T04:21:42.538620Z",
     "start_time": "2024-08-05T04:21:42.525197Z"
    }
   },
   "cell_type": "code",
   "source": "y_pred",
   "id": "288498aba6365d17",
   "outputs": [
    {
     "data": {
      "text/plain": [
       "tensor([[[-0.3052, -1.0151, -0.6608,  1.4993],\n",
       "         [-0.4746,  0.2000,  0.3576,  0.1394],\n",
       "         [-0.4383,  0.4407, -0.0200, -0.3962]],\n",
       "\n",
       "        [[ 0.3351,  1.1380,  0.9264, -1.3730],\n",
       "         [ 0.4698, -0.4652,  0.0537, -0.2343],\n",
       "         [ 0.5281, -0.1335, -0.1064,  0.8635]]], grad_fn=<StackBackward0>)"
      ]
     },
     "execution_count": 13,
     "metadata": {},
     "output_type": "execute_result"
    }
   ],
   "execution_count": 13
  },
  {
   "metadata": {
    "ExecuteTime": {
     "end_time": "2024-08-05T04:21:42.594463Z",
     "start_time": "2024-08-05T04:21:42.543738Z"
    }
   },
   "cell_type": "code",
   "source": "lighting_model.validation_step(batcher, 0, 0)",
   "id": "cf4c814316c9ddf6",
   "outputs": [
    {
     "name": "stderr",
     "output_type": "stream",
     "text": [
      "/home/gustavo_santelices/anaconda3/envs/tesis/lib/python3.8/site-packages/lightning/pytorch/core/module.py:420: You are trying to `self.log()` but the `self.trainer` reference is not registered on the model yet. This is most likely because the model hasn't been passed to the `Trainer`\n"
     ]
    },
    {
     "data": {
      "text/plain": [
       "tensor([37.9334], grad_fn=<AddBackward0>)"
      ]
     },
     "execution_count": 14,
     "metadata": {},
     "output_type": "execute_result"
    }
   ],
   "execution_count": 14
  }
 ],
 "metadata": {
  "kernelspec": {
   "display_name": "Python 3",
   "language": "python",
   "name": "python3"
  },
  "language_info": {
   "codemirror_mode": {
    "name": "ipython",
    "version": 2
   },
   "file_extension": ".py",
   "mimetype": "text/x-python",
   "name": "python",
   "nbconvert_exporter": "python",
   "pygments_lexer": "ipython2",
   "version": "2.7.6"
  }
 },
 "nbformat": 4,
 "nbformat_minor": 5
}
