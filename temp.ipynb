{
 "cells": [
  {
   "metadata": {},
   "cell_type": "markdown",
   "source": "Imports",
   "id": "65686a0fb03e0d15"
  },
  {
   "cell_type": "code",
   "id": "initial_id",
   "metadata": {
    "collapsed": true,
    "ExecuteTime": {
     "end_time": "2024-08-05T05:16:06.204630Z",
     "start_time": "2024-08-05T05:16:06.200421Z"
    }
   },
   "source": [
    "import polyscope as ps\n",
    "import numpy as np \n",
    "import torch\n",
    "import pandas\n",
    "import os\n",
    "import pickle"
   ],
   "outputs": [],
   "execution_count": 35
  },
  {
   "metadata": {
    "ExecuteTime": {
     "end_time": "2024-08-05T05:16:06.244698Z",
     "start_time": "2024-08-05T05:16:06.238697Z"
    }
   },
   "cell_type": "code",
   "source": [
    "from src.dataset.SymDataset.SymDataset import SymDataset\n",
    "from src.dataset.SymDataset.SymDataModule import SymDataModule\n",
    "from src.model.prsnet.lightning_prsnet import LightingPRSNet\n",
    "from src.utils.voxel import transform_representation, undo_transform_representation\n"
   ],
   "id": "f411961857d9792d",
   "outputs": [],
   "execution_count": 36
  },
  {
   "metadata": {},
   "cell_type": "markdown",
   "source": "Test Dataset y DataModule\n",
   "id": "f5cb2a585de728bf"
  },
  {
   "metadata": {
    "ExecuteTime": {
     "end_time": "2024-08-05T05:16:06.269026Z",
     "start_time": "2024-08-05T05:16:06.261652Z"
    }
   },
   "cell_type": "code",
   "source": "DATAPATH = '/data/ShapeNet_Symmetry/'",
   "id": "e673ea0cd5f7a3ed",
   "outputs": [],
   "execution_count": 37
  },
  {
   "metadata": {
    "ExecuteTime": {
     "end_time": "2024-08-05T05:16:06.292208Z",
     "start_time": "2024-08-05T05:16:06.286763Z"
    }
   },
   "cell_type": "code",
   "source": [
    "dataset = SymDataset(\n",
    "   data_source_path=DATAPATH + \"train\",\n",
    "   debug=False\n",
    ")"
   ],
   "id": "77699dd73009273b",
   "outputs": [],
   "execution_count": 38
  },
  {
   "metadata": {
    "ExecuteTime": {
     "end_time": "2024-08-05T05:16:06.319691Z",
     "start_time": "2024-08-05T05:16:06.313283Z"
    }
   },
   "cell_type": "code",
   "source": "len(dataset)",
   "id": "bee779020cfa2a60",
   "outputs": [
    {
     "data": {
      "text/plain": [
       "1"
      ]
     },
     "execution_count": 39,
     "metadata": {},
     "output_type": "execute_result"
    }
   ],
   "execution_count": 39
  },
  {
   "metadata": {
    "ExecuteTime": {
     "end_time": "2024-08-05T05:16:13.100886Z",
     "start_time": "2024-08-05T05:16:06.329013Z"
    }
   },
   "cell_type": "code",
   "source": [
    "i = 0\n",
    "item = dataset[i]"
   ],
   "id": "e6a000cf5c0f92a5",
   "outputs": [],
   "execution_count": 40
  },
  {
   "metadata": {
    "ExecuteTime": {
     "end_time": "2024-08-05T05:16:13.105666Z",
     "start_time": "2024-08-05T05:16:13.102354Z"
    }
   },
   "cell_type": "code",
   "source": "# item.visualize()",
   "id": "560a7747f5a4c45",
   "outputs": [],
   "execution_count": 41
  },
  {
   "metadata": {
    "ExecuteTime": {
     "end_time": "2024-08-05T05:16:13.144816Z",
     "start_time": "2024-08-05T05:16:13.107398Z"
    }
   },
   "cell_type": "code",
   "source": [
    "module = SymDataModule(DATAPATH, DATAPATH)\n",
    "module.setup(\"fit\")\n",
    "gen = iter(module.train_dataloader())"
   ],
   "id": "6bbb1c583ee6f803",
   "outputs": [],
   "execution_count": 42
  },
  {
   "metadata": {
    "ExecuteTime": {
     "end_time": "2024-08-05T05:16:19.812672Z",
     "start_time": "2024-08-05T05:16:13.150806Z"
    }
   },
   "cell_type": "code",
   "source": "batcher = next(gen)",
   "id": "51593693ce83a00e",
   "outputs": [],
   "execution_count": 43
  },
  {
   "metadata": {
    "ExecuteTime": {
     "end_time": "2024-08-05T05:16:19.820533Z",
     "start_time": "2024-08-05T05:16:19.814237Z"
    }
   },
   "cell_type": "code",
   "source": "batcher.get_voxel_points().shape",
   "id": "23a79ae9afb33bc",
   "outputs": [
    {
     "data": {
      "text/plain": [
       "torch.Size([1, 8192, 3])"
      ]
     },
     "execution_count": 44,
     "metadata": {},
     "output_type": "execute_result"
    }
   ],
   "execution_count": 44
  },
  {
   "metadata": {
    "ExecuteTime": {
     "end_time": "2024-08-05T05:16:19.831170Z",
     "start_time": "2024-08-05T05:16:19.823151Z"
    }
   },
   "cell_type": "code",
   "source": "batcher.get_voxel_obj()",
   "id": "5f3f1baeba4f441b",
   "outputs": [
    {
     "data": {
      "text/plain": [
       "[<src.utils.voxel.Voxel at 0x7fd4802b7fd0>]"
      ]
     },
     "execution_count": 45,
     "metadata": {},
     "output_type": "execute_result"
    }
   ],
   "execution_count": 45
  },
  {
   "metadata": {},
   "cell_type": "markdown",
   "source": "Test Model",
   "id": "1f162bb93c682ca1"
  },
  {
   "metadata": {
    "ExecuteTime": {
     "end_time": "2024-08-05T05:16:31.647981Z",
     "start_time": "2024-08-05T05:16:31.633058Z"
    }
   },
   "cell_type": "code",
   "source": "lighting_model = LightingPRSNet(amount_of_heads=3, use_bn=False) ",
   "id": "1ab30375fc1b95a0",
   "outputs": [],
   "execution_count": 48
  },
  {
   "metadata": {
    "ExecuteTime": {
     "end_time": "2024-08-05T05:18:41.557789Z",
     "start_time": "2024-08-05T05:18:41.523646Z"
    }
   },
   "cell_type": "code",
   "source": "",
   "id": "79a2a4f1b4e8b4d0",
   "outputs": [
    {
     "data": {
      "text/plain": [
       "tensor([[[-0.8237,  0.4242, -0.3763,  0.3117]]])"
      ]
     },
     "execution_count": 54,
     "metadata": {},
     "output_type": "execute_result"
    }
   ],
   "execution_count": 54
  },
  {
   "metadata": {
    "ExecuteTime": {
     "end_time": "2024-08-05T05:18:45.416811Z",
     "start_time": "2024-08-05T05:18:45.377922Z"
    }
   },
   "cell_type": "code",
   "source": "lighting_model.loss_fn.forward(batcher, undo_transform_representation(torch.stack(batcher.get_voxel_plane_syms())))",
   "id": "f14125edab4e2859",
   "outputs": [
    {
     "data": {
      "text/plain": [
       "tensor([0.0154])"
      ]
     },
     "execution_count": 55,
     "metadata": {},
     "output_type": "execute_result"
    }
   ],
   "execution_count": 55
  },
  {
   "metadata": {
    "ExecuteTime": {
     "end_time": "2024-08-05T05:16:35.318183Z",
     "start_time": "2024-08-05T05:16:35.267680Z"
    }
   },
   "cell_type": "code",
   "source": [
    "y_pred = lighting_model.net.forward(batcher.get_voxel_grid_stacked())\n",
    "y_pred.shape"
   ],
   "id": "e93f5b10162945cf",
   "outputs": [
    {
     "data": {
      "text/plain": [
       "torch.Size([1, 3, 4])"
      ]
     },
     "execution_count": 49,
     "metadata": {},
     "output_type": "execute_result"
    }
   ],
   "execution_count": 49
  },
  {
   "metadata": {},
   "cell_type": "code",
   "source": "y_pred",
   "id": "288498aba6365d17",
   "outputs": [],
   "execution_count": null
  },
  {
   "metadata": {},
   "cell_type": "code",
   "source": "lighting_model.validation_step(batcher, 0, 0)",
   "id": "cf4c814316c9ddf6",
   "outputs": [],
   "execution_count": null
  }
 ],
 "metadata": {
  "kernelspec": {
   "display_name": "Python 3",
   "language": "python",
   "name": "python3"
  },
  "language_info": {
   "codemirror_mode": {
    "name": "ipython",
    "version": 2
   },
   "file_extension": ".py",
   "mimetype": "text/x-python",
   "name": "python",
   "nbconvert_exporter": "python",
   "pygments_lexer": "ipython2",
   "version": "2.7.6"
  }
 },
 "nbformat": 4,
 "nbformat_minor": 5
}
