{
 "cells": [
  {
   "metadata": {},
   "cell_type": "markdown",
   "source": "Imports",
   "id": "65686a0fb03e0d15"
  },
  {
   "cell_type": "code",
   "id": "initial_id",
   "metadata": {
    "collapsed": true,
    "ExecuteTime": {
     "end_time": "2024-08-05T02:32:26.838248Z",
     "start_time": "2024-08-05T02:32:24.934956Z"
    }
   },
   "source": [
    "import polyscope as ps\n",
    "import numpy as np \n",
    "import torch\n",
    "import pandas\n",
    "import os"
   ],
   "outputs": [],
   "execution_count": 1
  },
  {
   "metadata": {
    "ExecuteTime": {
     "end_time": "2024-08-05T02:32:28.355156Z",
     "start_time": "2024-08-05T02:32:26.840251Z"
    }
   },
   "cell_type": "code",
   "source": [
    "from src.dataset.SymDataset.SymDataset import SymDataset\n",
    "from src.dataset.SymDataset.SymDataModule import SymDataModule\n",
    "from src.model.prsnet.lightning_prsnet import LightingPRSNet"
   ],
   "id": "f411961857d9792d",
   "outputs": [],
   "execution_count": 2
  },
  {
   "metadata": {},
   "cell_type": "markdown",
   "source": "Test Dataset y DataModule\n",
   "id": "f5cb2a585de728bf"
  },
  {
   "metadata": {
    "ExecuteTime": {
     "end_time": "2024-08-05T02:32:28.363718Z",
     "start_time": "2024-08-05T02:32:28.356396Z"
    }
   },
   "cell_type": "code",
   "source": "DATAPATH = '/data/ShapeNet_Symmetry/'",
   "id": "e673ea0cd5f7a3ed",
   "outputs": [],
   "execution_count": 3
  },
  {
   "metadata": {
    "ExecuteTime": {
     "end_time": "2024-08-05T02:32:28.373483Z",
     "start_time": "2024-08-05T02:32:28.366330Z"
    }
   },
   "cell_type": "code",
   "source": [
    "dataset = SymDataset(\n",
    "   data_source_path=DATAPATH + \"train\",\n",
    "   debug=False\n",
    ")"
   ],
   "id": "77699dd73009273b",
   "outputs": [],
   "execution_count": 4
  },
  {
   "metadata": {
    "ExecuteTime": {
     "end_time": "2024-08-05T02:32:35.789459Z",
     "start_time": "2024-08-05T02:32:28.379960Z"
    }
   },
   "cell_type": "code",
   "source": [
    "i = 1\n",
    "item = dataset[i]"
   ],
   "id": "e6a000cf5c0f92a5",
   "outputs": [],
   "execution_count": 5
  },
  {
   "metadata": {
    "ExecuteTime": {
     "end_time": "2024-08-05T02:32:35.801787Z",
     "start_time": "2024-08-05T02:32:35.791641Z"
    }
   },
   "cell_type": "code",
   "source": "# item.visualize()",
   "id": "560a7747f5a4c45",
   "outputs": [],
   "execution_count": 6
  },
  {
   "metadata": {
    "ExecuteTime": {
     "end_time": "2024-08-05T02:32:35.852061Z",
     "start_time": "2024-08-05T02:32:35.808270Z"
    }
   },
   "cell_type": "code",
   "source": [
    "module = SymDataModule(DATAPATH, DATAPATH)\n",
    "module.setup(\"fit\")\n",
    "gen = iter(module.train_dataloader())"
   ],
   "id": "6bbb1c583ee6f803",
   "outputs": [],
   "execution_count": 7
  },
  {
   "metadata": {
    "ExecuteTime": {
     "end_time": "2024-08-05T02:32:48.437213Z",
     "start_time": "2024-08-05T02:32:35.854298Z"
    }
   },
   "cell_type": "code",
   "source": "batcher = next(gen)",
   "id": "51593693ce83a00e",
   "outputs": [],
   "execution_count": 8
  },
  {
   "metadata": {
    "ExecuteTime": {
     "end_time": "2024-08-05T02:32:48.452305Z",
     "start_time": "2024-08-05T02:32:48.440119Z"
    }
   },
   "cell_type": "code",
   "source": "batcher.get_voxel_obj()",
   "id": "5f3f1baeba4f441b",
   "outputs": [
    {
     "data": {
      "text/plain": [
       "[<src.utils.voxel.Voxel at 0x7fc46e02faf0>,\n",
       " <src.utils.voxel.Voxel at 0x7fc46e03b520>]"
      ]
     },
     "execution_count": 9,
     "metadata": {},
     "output_type": "execute_result"
    }
   ],
   "execution_count": 9
  },
  {
   "metadata": {
    "ExecuteTime": {
     "end_time": "2024-08-05T02:36:49.425582Z",
     "start_time": "2024-08-05T02:36:49.371456Z"
    }
   },
   "cell_type": "code",
   "source": "torch.stack([item.grid for item in batcher.get_voxel_obj()]).reshape((2, 1, 32, 32, 32))",
   "id": "28a0ab5802000155",
   "outputs": [
    {
     "data": {
      "text/plain": [
       "tensor([[[[[0., 0., 0.,  ..., 0., 0., 0.],\n",
       "           [0., 0., 0.,  ..., 0., 0., 0.],\n",
       "           [0., 0., 0.,  ..., 0., 0., 0.],\n",
       "           ...,\n",
       "           [0., 0., 0.,  ..., 0., 0., 0.],\n",
       "           [0., 0., 0.,  ..., 0., 0., 0.],\n",
       "           [0., 0., 0.,  ..., 0., 0., 0.]],\n",
       "\n",
       "          [[0., 0., 0.,  ..., 0., 0., 0.],\n",
       "           [0., 0., 1.,  ..., 0., 0., 0.],\n",
       "           [0., 1., 1.,  ..., 0., 0., 0.],\n",
       "           ...,\n",
       "           [0., 0., 0.,  ..., 0., 0., 0.],\n",
       "           [0., 0., 0.,  ..., 0., 0., 0.],\n",
       "           [0., 0., 0.,  ..., 0., 0., 0.]],\n",
       "\n",
       "          [[0., 0., 1.,  ..., 0., 0., 0.],\n",
       "           [0., 1., 1.,  ..., 0., 0., 0.],\n",
       "           [1., 1., 0.,  ..., 0., 0., 0.],\n",
       "           ...,\n",
       "           [0., 0., 0.,  ..., 0., 0., 0.],\n",
       "           [0., 0., 0.,  ..., 0., 0., 0.],\n",
       "           [0., 0., 0.,  ..., 0., 0., 0.]],\n",
       "\n",
       "          ...,\n",
       "\n",
       "          [[0., 0., 0.,  ..., 0., 0., 0.],\n",
       "           [0., 0., 0.,  ..., 0., 0., 0.],\n",
       "           [0., 0., 0.,  ..., 0., 0., 0.],\n",
       "           ...,\n",
       "           [0., 0., 0.,  ..., 0., 0., 0.],\n",
       "           [0., 0., 0.,  ..., 0., 0., 0.],\n",
       "           [0., 0., 0.,  ..., 0., 0., 0.]],\n",
       "\n",
       "          [[0., 0., 0.,  ..., 0., 0., 0.],\n",
       "           [0., 0., 0.,  ..., 0., 0., 0.],\n",
       "           [0., 0., 0.,  ..., 0., 0., 0.],\n",
       "           ...,\n",
       "           [0., 0., 0.,  ..., 0., 0., 0.],\n",
       "           [0., 0., 0.,  ..., 0., 0., 0.],\n",
       "           [0., 0., 0.,  ..., 0., 0., 0.]],\n",
       "\n",
       "          [[0., 0., 0.,  ..., 0., 0., 0.],\n",
       "           [0., 0., 0.,  ..., 0., 0., 0.],\n",
       "           [0., 0., 0.,  ..., 0., 0., 0.],\n",
       "           ...,\n",
       "           [0., 0., 0.,  ..., 0., 0., 0.],\n",
       "           [0., 0., 0.,  ..., 0., 0., 0.],\n",
       "           [0., 0., 0.,  ..., 0., 0., 0.]]]],\n",
       "\n",
       "\n",
       "\n",
       "        [[[[0., 0., 0.,  ..., 0., 0., 0.],\n",
       "           [0., 0., 0.,  ..., 0., 0., 0.],\n",
       "           [0., 0., 0.,  ..., 0., 0., 0.],\n",
       "           ...,\n",
       "           [0., 0., 0.,  ..., 0., 0., 0.],\n",
       "           [0., 0., 0.,  ..., 0., 0., 0.],\n",
       "           [0., 0., 0.,  ..., 0., 0., 0.]],\n",
       "\n",
       "          [[0., 0., 0.,  ..., 0., 0., 0.],\n",
       "           [0., 0., 0.,  ..., 0., 0., 0.],\n",
       "           [0., 0., 0.,  ..., 0., 0., 0.],\n",
       "           ...,\n",
       "           [0., 0., 0.,  ..., 0., 0., 0.],\n",
       "           [0., 0., 0.,  ..., 0., 0., 0.],\n",
       "           [0., 0., 0.,  ..., 0., 0., 0.]],\n",
       "\n",
       "          [[0., 0., 0.,  ..., 0., 0., 0.],\n",
       "           [0., 0., 0.,  ..., 0., 0., 0.],\n",
       "           [0., 0., 0.,  ..., 0., 0., 0.],\n",
       "           ...,\n",
       "           [0., 0., 0.,  ..., 0., 0., 0.],\n",
       "           [0., 0., 0.,  ..., 0., 0., 0.],\n",
       "           [0., 0., 0.,  ..., 0., 0., 0.]],\n",
       "\n",
       "          ...,\n",
       "\n",
       "          [[0., 0., 0.,  ..., 0., 0., 0.],\n",
       "           [0., 0., 0.,  ..., 0., 0., 0.],\n",
       "           [0., 0., 0.,  ..., 0., 0., 0.],\n",
       "           ...,\n",
       "           [0., 0., 0.,  ..., 0., 0., 0.],\n",
       "           [0., 0., 0.,  ..., 0., 0., 0.],\n",
       "           [0., 0., 0.,  ..., 0., 0., 0.]],\n",
       "\n",
       "          [[0., 0., 0.,  ..., 0., 0., 0.],\n",
       "           [0., 0., 0.,  ..., 0., 0., 0.],\n",
       "           [0., 0., 0.,  ..., 0., 0., 0.],\n",
       "           ...,\n",
       "           [0., 0., 0.,  ..., 0., 0., 0.],\n",
       "           [0., 0., 0.,  ..., 0., 0., 0.],\n",
       "           [0., 0., 0.,  ..., 0., 0., 0.]],\n",
       "\n",
       "          [[0., 0., 0.,  ..., 0., 0., 0.],\n",
       "           [0., 0., 0.,  ..., 0., 0., 0.],\n",
       "           [0., 0., 0.,  ..., 0., 0., 0.],\n",
       "           ...,\n",
       "           [0., 0., 0.,  ..., 0., 0., 0.],\n",
       "           [0., 0., 0.,  ..., 0., 0., 0.],\n",
       "           [0., 0., 0.,  ..., 0., 0., 0.]]]]])"
      ]
     },
     "execution_count": 22,
     "metadata": {},
     "output_type": "execute_result"
    }
   ],
   "execution_count": 22
  },
  {
   "metadata": {},
   "cell_type": "markdown",
   "source": "Test Model",
   "id": "1f162bb93c682ca1"
  },
  {
   "metadata": {
    "ExecuteTime": {
     "end_time": "2024-08-05T02:37:21.425542Z",
     "start_time": "2024-08-05T02:37:21.399204Z"
    }
   },
   "cell_type": "code",
   "source": "lighting_model = LightingPRSNet(amount_of_heads=3) ",
   "id": "1ab30375fc1b95a0",
   "outputs": [],
   "execution_count": 25
  },
  {
   "metadata": {
    "ExecuteTime": {
     "end_time": "2024-08-05T02:37:22.944014Z",
     "start_time": "2024-08-05T02:37:22.870648Z"
    }
   },
   "cell_type": "code",
   "source": "lighting_model.net.forward(torch.stack([item.grid for item in batcher.get_voxel_obj()]).reshape((2, 1, 32, 32, 32))).shape",
   "id": "cf4c814316c9ddf6",
   "outputs": [
    {
     "data": {
      "text/plain": [
       "torch.Size([2, 3, 4])"
      ]
     },
     "execution_count": 26,
     "metadata": {},
     "output_type": "execute_result"
    }
   ],
   "execution_count": 26
  }
 ],
 "metadata": {
  "kernelspec": {
   "display_name": "Python 3",
   "language": "python",
   "name": "python3"
  },
  "language_info": {
   "codemirror_mode": {
    "name": "ipython",
    "version": 2
   },
   "file_extension": ".py",
   "mimetype": "text/x-python",
   "name": "python",
   "nbconvert_exporter": "python",
   "pygments_lexer": "ipython2",
   "version": "2.7.6"
  }
 },
 "nbformat": 4,
 "nbformat_minor": 5
}
