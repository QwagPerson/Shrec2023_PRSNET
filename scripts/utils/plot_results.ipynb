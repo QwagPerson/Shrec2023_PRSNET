{
 "cells": [
  {
   "cell_type": "code",
   "execution_count": 1,
   "id": "initial_id",
   "metadata": {
    "collapsed": true,
    "ExecuteTime": {
     "end_time": "2023-12-19T21:07:30.680718496Z",
     "start_time": "2023-12-19T21:07:18.600795059Z"
    }
   },
   "source": [
    "from model.prsnet.lightning_prsnet import LightingPRSNet\n",
    "import matplotlib.pyplot as plt\n",
    "import os\n",
    "import pandas as pd\n",
    "from torchviz import make_dot"
   ],
   "outputs": []
  },
  {
   "cell_type": "code",
   "execution_count": 2,
   "source": [
    "MODEL_PATH = \"modelos_interesantes/version_31_tremendo_bs/checkpoints/epoch=56-step=3021.ckpt\"\n",
    "model = LightingPRSNet.load_from_checkpoint(MODEL_PATH,\n",
    "                                            max_sde=0.023, angle_threshold=1,\n",
    "                                            phc_angle=180, phc_dist_percent=0.01)"
   ],
   "metadata": {
    "collapsed": false,
    "ExecuteTime": {
     "end_time": "2023-12-19T21:47:08.001013598Z",
     "start_time": "2023-12-19T21:47:06.177633210Z"
    }
   },
   "id": "5562efe0ac551376",
   "outputs": []
  },
  {
   "cell_type": "code",
   "execution_count": 7,
   "source": [
    "model.net.heads[0]"
   ],
   "metadata": {
    "collapsed": false,
    "ExecuteTime": {
     "end_time": "2023-12-19T22:19:43.098552404Z",
     "start_time": "2023-12-19T22:19:42.984929048Z"
    }
   },
   "id": "5aed739fa4b7289d",
   "outputs": []
  },
  {
   "cell_type": "code",
   "execution_count": 3,
   "source": [
    "def plot_metric(version, path_to_metric_file, ax, x, y):\n",
    "    if not os.path.exists(path_to_metric_file):\n",
    "        return\n",
    "    \n",
    "    data = pd.read_csv(path_to_metric_file)\n",
    "    if not y in data.columns:\n",
    "        return\n",
    "    data = data[[x, y]].dropna()\n",
    "    data = data.rename(columns={y : str(y) +\"_\"+ str(version)})\n",
    "    data.plot(ax = ax, kind=\"line\", x=x, y=str(y) +\"_\"+ str(version))"
   ],
   "metadata": {
    "collapsed": false,
    "ExecuteTime": {
     "end_time": "2023-12-03T19:42:43.705487504Z",
     "start_time": "2023-12-03T19:42:43.648711893Z"
    }
   },
   "id": "9e6e4094c8c8c25b",
   "outputs": []
  },
  {
   "cell_type": "code",
   "execution_count": 4,
   "source": [
    "def plot_results(folder_root):\n",
    "    versiones = os.listdir(folder_root)\n",
    "    fig, axes = plt.subplots(4, figsize=(10,10))\n",
    "    axes = axes.flatten()\n",
    "    ys = [\"train_phc\", \"val_phc\", \"train_loss\", \"val_loss\"]\n",
    "    xs = [\"epoch\"]\n",
    "    for j, y in enumerate(ys):\n",
    "        for i, version in enumerate(versiones):\n",
    "            vpath = os.path.join(\n",
    "                folder_root,\n",
    "                version,\n",
    "                \"metrics.csv\"\n",
    "            )\n",
    "            plot_metric(version, vpath, axes[j], xs[0], y)\n",
    "  "
   ],
   "metadata": {
    "collapsed": false,
    "ExecuteTime": {
     "end_time": "2023-12-03T19:42:43.706367441Z",
     "start_time": "2023-12-03T19:42:43.670147295Z"
    }
   },
   "id": "8ac87f92f4e5acce",
   "outputs": []
  },
  {
   "cell_type": "code",
   "execution_count": 5,
   "source": [
    "plot_results(\"modelos_interesantes\")"
   ],
   "metadata": {
    "collapsed": false,
    "ExecuteTime": {
     "end_time": "2023-12-03T19:42:45.143479883Z",
     "start_time": "2023-12-03T19:42:43.678043810Z"
    }
   },
   "id": "8a12bdac288f2b9d",
   "outputs": []
  }
 ],
 "metadata": {
  "kernelspec": {
   "display_name": "Python 3",
   "language": "python",
   "name": "python3"
  },
  "language_info": {
   "codemirror_mode": {
    "name": "ipython",
    "version": 2
   },
   "file_extension": ".py",
   "mimetype": "text/x-python",
   "name": "python",
   "nbconvert_exporter": "python",
   "pygments_lexer": "ipython2",
   "version": "2.7.6"
  }
 },
 "nbformat": 4,
 "nbformat_minor": 5
}
